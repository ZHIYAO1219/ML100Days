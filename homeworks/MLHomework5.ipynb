{
 "cells": [
  {
   "cell_type": "code",
   "execution_count": 1,
   "metadata": {},
   "outputs": [
    {
     "data": {
      "text/plain": [
       "[3, 7]"
      ]
     },
     "execution_count": 1,
     "metadata": {},
     "output_type": "execute_result"
    }
   ],
   "source": [
    "a = 3\n",
    "b = [a, 7]\n",
    "b"
   ]
  },
  {
   "cell_type": "code",
   "execution_count": 14,
   "metadata": {},
   "outputs": [
    {
     "name": "stdout",
     "output_type": "stream",
     "text": [
      "[67.16666666666667, 89, 48, 13.433995020924426]\n",
      "[66.6, 85.0, 60.0, 9.707728879609279]\n",
      "[75.33333333333333, 90, 65, 8.825468196582484]\n",
      "\n",
      "[64.66666666666667, 85.0, 55.0, 9.860132971832694]\n",
      "\n",
      "0.9779282830211268\n"
     ]
    }
   ],
   "source": [
    "import numpy as np\n",
    "english_score = np.array([55,89,76,65,48,70])\n",
    "math_score = np.array([60,85,60,68,np.nan,60])\n",
    "chinese_score = np.array([65,90,82,72,66,77])\n",
    "#1. 請計算各科成績平均、最大值、最小值、標準差，其中數學缺一筆資料可忽略?\n",
    "emean = np.mean(english_score)\n",
    "mmean = np.nanmean(math_score)\n",
    "cmean = np.mean(chinese_score)\n",
    "\n",
    "emax = np.max(english_score)\n",
    "mmax = np.nanmax(math_score)\n",
    "cmax = np.max(chinese_score)\n",
    "\n",
    "emin = np.min(english_score)\n",
    "mmin = np.nanmin(math_score)\n",
    "cmin = np.min(chinese_score)\n",
    "\n",
    "estd = np.std(english_score)\n",
    "mstd = np.nanstd(math_score)\n",
    "cstd = np.std(chinese_score)\n",
    "\n",
    "eStat = [emean, emax, emin, estd]\n",
    "mStat = [mmean, mmax, mmin, mstd]\n",
    "cStat = [cmean, cmax, cmin, cstd]\n",
    "\n",
    "print(eStat) #Ans1\n",
    "print(mStat)\n",
    "print(cStat)\n",
    "print()\n",
    "\n",
    "#2. 第五位同學補考數學後成績為55，請計算補考後數學成績平均、最大值、最小值、標準差?\n",
    "math_score[4] = 55\n",
    "mmean = np.mean(math_score)\n",
    "mmax = np.max(math_score)\n",
    "mmin = np.min(math_score)\n",
    "mstd = np.std(math_score)\n",
    "mStat = [mmean, mmax, mmin, mstd]\n",
    "print(mStat)#Ans2\n",
    "print()\n",
    "\n",
    "#3. 用補考後資料找出與國文成績相關係數最高的學科?\n",
    "scores = np.stack((english_score, math_score, chinese_score))\n",
    "rs = np.corrcoef(scores)\n",
    "rs[2][2] = 0 #將自己消除，否則自己與自己的r肯定最大\n",
    "print(np.max(rs[2])) #Ans3\n",
    "\n",
    "\n"
   ]
  },
  {
   "cell_type": "code",
   "execution_count": null,
   "metadata": {},
   "outputs": [],
   "source": []
  }
 ],
 "metadata": {
  "kernelspec": {
   "display_name": "Python 3",
   "language": "python",
   "name": "python3"
  },
  "language_info": {
   "codemirror_mode": {
    "name": "ipython",
    "version": 3
   },
   "file_extension": ".py",
   "mimetype": "text/x-python",
   "name": "python",
   "nbconvert_exporter": "python",
   "pygments_lexer": "ipython3",
   "version": "3.7.4"
  }
 },
 "nbformat": 4,
 "nbformat_minor": 2
}
