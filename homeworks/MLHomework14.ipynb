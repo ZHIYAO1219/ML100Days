{
 "cells": [
  {
   "cell_type": "code",
   "execution_count": 18,
   "metadata": {},
   "outputs": [
    {
     "name": "stdout",
     "output_type": "stream",
     "text": [
      "    student_id  math_score  english_score  chinese_score   sex  class\n",
      "0            1          50             80             70   boy      1\n",
      "1            2          60             45             50   boy      2\n",
      "2            3          98             43             55   boy      1\n",
      "3            4          70             69             89   boy      2\n",
      "4            5          56             79             60  girl      1\n",
      "5            6          60             68             55  girl      2\n",
      "6            7          45             70             77  girl      1\n",
      "7            8          55             77             76  girl      2\n",
      "8            9          25             57             60  girl      1\n",
      "9           10          88             40             43  girl      3\n",
      "10          11          25             60             45   boy      3\n",
      "11          12          80             60             23   boy      3\n",
      "12          13          20             90             66  girl      3\n",
      "13          14          50             50             50  girl      3\n",
      "14          15          89             67             77  girl      3\n",
      "                       math_score  english_score  chinese_score\n",
      "sex  class student_id                                          \n",
      "boy  1     1                   50             80             70\n",
      "           3                   98             43             55\n",
      "     2     2                   60             45             50\n",
      "           4                   70             69             89\n",
      "     3     11                  25             60             45\n",
      "           12                  80             60             23\n",
      "girl 1     5                   56             79             60\n",
      "           7                   45             70             77\n",
      "           9                   25             57             60\n",
      "     2     6                   60             68             55\n",
      "           8                   55             77             76\n",
      "     3     10                  88             40             43\n",
      "           13                  20             90             66\n",
      "           14                  50             50             50\n",
      "           15                  89             67             77\n"
     ]
    }
   ],
   "source": [
    "import pandas as pd\n",
    "import numpy as np\n",
    "score_df = pd.DataFrame([[1,50,80,70,'boy',1],[2,60,45,50,'boy',2],[3,98,43,55,'boy',1],[4,70,69,89,'boy',2],[5,56,79,60,'girl',1],[6,60,68,55,'girl',2],[7,45,70,77,'girl',1],[8,55,77,76,'girl',2],[9,25,57,60,'girl',1],[10,88,40,43,'girl',3],[11,25,60,45,'boy',3],[12,80,60,23,'boy',3],[13,20,90,66,'girl',3],[14,50,50,50,'girl',3],[15,89,67,77,'girl',3]],columns=['student_id','math_score','english_score','chinese_score','sex','class'])\n",
    "print(score_df)\n",
    "#將索引(index)依序改為sex、class、student_id，欄位依序改成chinese_score、english_score、math_score\n",
    "score_df = score_df.set_index(['sex', 'class', 'student_id']).sort_values(['sex', 'class', 'student_id'])\n",
    "print(score_df)\n"
   ]
  }
 ],
 "metadata": {
  "kernelspec": {
   "display_name": "Python 3",
   "language": "python",
   "name": "python3"
  },
  "language_info": {
   "codemirror_mode": {
    "name": "ipython",
    "version": 3
   },
   "file_extension": ".py",
   "mimetype": "text/x-python",
   "name": "python",
   "nbconvert_exporter": "python",
   "pygments_lexer": "ipython3",
   "version": "3.7.4"
  }
 },
 "nbformat": 4,
 "nbformat_minor": 2
}
