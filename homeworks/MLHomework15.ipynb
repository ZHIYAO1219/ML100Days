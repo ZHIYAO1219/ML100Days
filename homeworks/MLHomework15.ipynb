{
 "cells": [
  {
   "cell_type": "code",
   "execution_count": 38,
   "metadata": {},
   "outputs": [
    {
     "name": "stdout",
     "output_type": "stream",
     "text": [
      "math_score       98\n",
      "english_score    90\n",
      "chinese_score    89\n",
      "dtype: object \n",
      "\n",
      "math_score       20\n",
      "english_score    40\n",
      "chinese_score    23\n",
      "dtype: object \n",
      "\n",
      "\n",
      "61.25 \n",
      "\n",
      "\n",
      "7.333333333333329\n"
     ]
    }
   ],
   "source": [
    "import pandas as pd\n",
    "score_df = pd.DataFrame([[1,50,80,70,'boy',1], \n",
    "              [2,60,45,50,'boy',2],\n",
    "              [3,98,43,55,'boy',1],\n",
    "              [4,70,69,89,'boy',2],\n",
    "              [5,56,79,60,'girl',1],\n",
    "              [6,60,68,55,'girl',2],\n",
    "              [7,45,70,77,'girl',1],\n",
    "              [8,55,77,76,'girl',2],\n",
    "              [9,25,57,60,'girl',1],\n",
    "              [10,88,40,43,'girl',3],\n",
    "              [11,25,60,45,'boy',3],\n",
    "              [12,80,60,23,'boy',3],\n",
    "              [13,20,90,66,'girl',3],\n",
    "              [14,50,50,50,'girl',3],\n",
    "              [15,89,67,77,'girl',3]],columns=['student_id','math_score','english_score','chinese_score','sex','class'])\n",
    "\n",
    "#1.找出全年級各科成績最高分與最低分?\n",
    "maxs = score_df.max()\n",
    "mins = score_df.min()\n",
    "maxs = maxs[['math_score', 'english_score', 'chinese_score']]\n",
    "mins = mins[['math_score', 'english_score', 'chinese_score']]\n",
    "print(maxs,'\\n')\n",
    "print(mins,'\\n\\n')\n",
    "#2.找出數學班平均最高的班級?\n",
    "grouped = score_df.groupby('class')\n",
    "mmax = 0\n",
    "for name, group in grouped:\n",
    "#     print(group)\n",
    "    mean = group['math_score'].mean()\n",
    "#     print(mean, '\\n')\n",
    "    if mean>mmax:\n",
    "        mmax = mean\n",
    "print(mmax,'\\n\\n')\n",
    "\n",
    "#3.分析全校女生與男生國文平均差幾分?\n",
    "smean = score_df.groupby('sex').mean()\n",
    "print(smean['chinese_score']['girl']- smean['chinese_score']['boy'])\n",
    "\n",
    "    \n",
    "\n",
    "\n"
   ]
  }
 ],
 "metadata": {
  "kernelspec": {
   "display_name": "Python 3",
   "language": "python",
   "name": "python3"
  },
  "language_info": {
   "codemirror_mode": {
    "name": "ipython",
    "version": 3
   },
   "file_extension": ".py",
   "mimetype": "text/x-python",
   "name": "python",
   "nbconvert_exporter": "python",
   "pygments_lexer": "ipython3",
   "version": "3.7.4"
  }
 },
 "nbformat": 4,
 "nbformat_minor": 2
}
