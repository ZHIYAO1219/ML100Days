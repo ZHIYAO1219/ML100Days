{
 "cells": [
  {
   "cell_type": "code",
   "execution_count": 83,
   "metadata": {},
   "outputs": [
    {
     "name": "stdout",
     "output_type": "stream",
     "text": [
      "2018-12-31/2019-01-06     0\n",
      "2018-12-31/2019-01-06     1\n",
      "2018-12-31/2019-01-06     2\n",
      "2018-12-31/2019-01-06     3\n",
      "2018-12-31/2019-01-06     4\n",
      "2018-12-31/2019-01-06     5\n",
      "2019-01-07/2019-01-13     6\n",
      "2019-01-07/2019-01-13     7\n",
      "2019-01-07/2019-01-13     8\n",
      "2019-01-07/2019-01-13     9\n",
      "2019-01-07/2019-01-13    10\n",
      "2019-01-07/2019-01-13    11\n",
      "2019-01-07/2019-01-13    12\n",
      "2019-01-14/2019-01-20    13\n",
      "2019-01-14/2019-01-20    14\n",
      "2019-01-14/2019-01-20    15\n",
      "2019-01-14/2019-01-20    16\n",
      "2019-01-14/2019-01-20    17\n",
      "2019-01-14/2019-01-20    18\n",
      "2019-01-14/2019-01-20    19\n",
      "Freq: W-SUN, dtype: int64 \n",
      "\n",
      "Index 0 means week 1.\n",
      "       0\n",
      "0   2.5\n",
      "1   9.0\n",
      "2  16.0\n"
     ]
    }
   ],
   "source": [
    "import pandas as pd\n",
    "import numpy as np\n",
    "index = pd.date_range('1/1/2019', periods=20, freq='D')\n",
    "series = pd.Series(range(20), index=index)\n",
    "\n",
    "#1. 將所有轉為周資料\n",
    "series = series.to_period(freq = 'W')\n",
    "print(series, '\\n')\n",
    "frame = series.to_frame()\n",
    "\n",
    "#2. 將周資料的值取平均\n",
    "indexes = frame.index\n",
    "# print(indexes[0])\n",
    "temp = indexes[0]\n",
    "frame = series[indexes[0]].to_frame()\n",
    "lis = [frame.mean()]\n",
    "for i in indexes:\n",
    "    if not (i == temp):\n",
    "        frame = series[i].to_frame()\n",
    "        lis.append(frame.mean())\n",
    "        temp = i\n",
    "        \n",
    "ans = pd.DataFrame(data=lis)\n",
    "print('Index 0 means week 1.\\n', ans)\n",
    "# While doing like this, we should sort first\n",
    "\n"
   ]
  }
 ],
 "metadata": {
  "kernelspec": {
   "display_name": "Python 3",
   "language": "python",
   "name": "python3"
  },
  "language_info": {
   "codemirror_mode": {
    "name": "ipython",
    "version": 3
   },
   "file_extension": ".py",
   "mimetype": "text/x-python",
   "name": "python",
   "nbconvert_exporter": "python",
   "pygments_lexer": "ipython3",
   "version": "3.7.4"
  }
 },
 "nbformat": 4,
 "nbformat_minor": 2
}
