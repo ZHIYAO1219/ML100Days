{
 "cells": [
  {
   "cell_type": "code",
   "execution_count": 7,
   "metadata": {},
   "outputs": [
    {
     "name": "stdout",
     "output_type": "stream",
     "text": [
      "60.0\n",
      "0.09999999999999999\n"
     ]
    }
   ],
   "source": [
    "import numpy as np\n",
    "v0 = 20\n",
    "v1 = 20000\n",
    "GdB1 = 20*np.log10(v1/v0)#Answer1\n",
    "print(GdB1)\n",
    "# print((10**(60/20))*v0)\n",
    "\n",
    "v30 = (10**(30/20))*v0\n",
    "v50 = (10**(50/20))*v0\n",
    "print(v30/v50)#Answer2\n",
    "\n"
   ]
  },
  {
   "cell_type": "code",
   "execution_count": null,
   "metadata": {},
   "outputs": [],
   "source": []
  }
 ],
 "metadata": {
  "kernelspec": {
   "display_name": "Python 3",
   "language": "python",
   "name": "python3"
  },
  "language_info": {
   "codemirror_mode": {
    "name": "ipython",
    "version": 3
   },
   "file_extension": ".py",
   "mimetype": "text/x-python",
   "name": "python",
   "nbconvert_exporter": "python",
   "pygments_lexer": "ipython3",
   "version": "3.7.4"
  }
 },
 "nbformat": 4,
 "nbformat_minor": 2
}
