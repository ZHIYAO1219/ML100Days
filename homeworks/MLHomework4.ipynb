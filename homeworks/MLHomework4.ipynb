{
 "cells": [
  {
   "cell_type": "code",
   "execution_count": 3,
   "metadata": {},
   "outputs": [
    {
     "name": "stdout",
     "output_type": "stream",
     "text": [
      "3\n",
      "True\n"
     ]
    }
   ],
   "source": [
    "import numpy as np\n",
    "english_score = np.array([55,89,76,65,48,70])\n",
    "math_score = np.array([60,85,60,68,55,60])\n",
    "chinese_score = np.array([65,90,82,72,66,77])\n",
    "\n",
    "#1.有多少學生英文成績比數學成績高?\n",
    "results = english_score - math_score\n",
    "amount = 0\n",
    "for n in results:\n",
    "    if n>0:\n",
    "        amount+=1\n",
    "print(amount) #Answer1\n",
    "\n",
    "#2.是否全班同學最高分都是國文?\n",
    "c_m = chinese_score - math_score \n",
    "c_e = chinese_score - english_score\n",
    "resultm = True\n",
    "resulte = True\n",
    "\n",
    "for n in c_m:\n",
    "    if n < 0:\n",
    "        resultm = False\n",
    "        break\n",
    "        \n",
    "for n in c_e:\n",
    "    if n < 0:\n",
    "        resulte = False\n",
    "        break\n",
    "\n",
    "print(np.logical_and(resultm, resulte)) #Answer2"
   ]
  },
  {
   "cell_type": "code",
   "execution_count": null,
   "metadata": {},
   "outputs": [],
   "source": []
  }
 ],
 "metadata": {
  "kernelspec": {
   "display_name": "Python 3",
   "language": "python",
   "name": "python3"
  },
  "language_info": {
   "codemirror_mode": {
    "name": "ipython",
    "version": 3
   },
   "file_extension": ".py",
   "mimetype": "text/x-python",
   "name": "python",
   "nbconvert_exporter": "python",
   "pygments_lexer": "ipython3",
   "version": "3.7.4"
  }
 },
 "nbformat": 4,
 "nbformat_minor": 2
}
