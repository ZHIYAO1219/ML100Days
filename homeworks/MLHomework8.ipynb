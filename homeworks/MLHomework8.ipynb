{
 "cells": [
  {
   "cell_type": "code",
   "execution_count": 22,
   "metadata": {},
   "outputs": [
    {
     "name": "stdout",
     "output_type": "stream",
     "text": [
      "[('小明', 'boy', 67.5, 8,  True) ('小華', 'boy', 75.3, 1,  True)\n",
      " ('小菁', 'girl', 50.1, 5, False) ('小美', 'girl', 45.5, 4, False)\n",
      " ('小張', 'boy', 80.8, 7,  True) ('John', 'boy', 90.4, 6,  True)\n",
      " ('Mark', 'boy', 78.4, 2, False) ('Tom', 'boy', 70.7, 3, False)]\n",
      "69.8375\n",
      "77.18333\n",
      "47.8\n"
     ]
    }
   ],
   "source": [
    "import numpy as np \n",
    "name_list = ['小明','小華','小菁','小美','小張','John','Mark','Tom']\n",
    "sex_list = ['boy','boy','girl','girl','boy','boy','boy','boy']\n",
    "weight_list = [67.5,75.3,50.1,45.5,80.8,90.4,78.4,70.7]\n",
    "rank_list = [8,1,5,4,7,6,2,3]\n",
    "myopia_list = [True,True,False,False,True,True,False,False]\n",
    "\n",
    "#1. 將上列list依照['name', 'sex', 'weight', 'rank', 'myopia']順序擺入array，並且資料型態順序擺入[Unicode,Unicode,float,int,boolean]\n",
    "dt = np.dtype({'names' : ('name', 'sex', 'weight', 'rank', 'myopia'), 'formats' : ('U10', 'U10', 'f', 'i', '?') })\n",
    "arr = np.zeros(8, dtype=dt)\n",
    "arr['name'] = name_list\n",
    "arr['sex'] = sex_list\n",
    "arr['weight'] = weight_list\n",
    "arr['rank'] = rank_list\n",
    "arr['myopia'] = myopia_list\n",
    "print(arr)\n",
    "#2. 呈上題，將array中體重(weight)數據集取出算出全部平均體重\n",
    "wmean = np.mean(arr['weight'])\n",
    "print(wmean)\n",
    "#3. 呈上題，進一步算出男生(sex欄位是boy)平均體重\n",
    "bwmean = np.mean(arr[arr['sex'] == 'boy']['weight'])\n",
    "print(bwmean)\n",
    "#3. 呈上題，進一步算出女生(sex欄位是girl)平均體重\n",
    "gwmean = np.mean(arr[arr['sex'] == 'girl']['weight'])\n",
    "print(gwmean)\n",
    "\n"
   ]
  }
 ],
 "metadata": {
  "kernelspec": {
   "display_name": "Python 3",
   "language": "python",
   "name": "python3"
  },
  "language_info": {
   "codemirror_mode": {
    "name": "ipython",
    "version": 3
   },
   "file_extension": ".py",
   "mimetype": "text/x-python",
   "name": "python",
   "nbconvert_exporter": "python",
   "pygments_lexer": "ipython3",
   "version": "3.7.4"
  }
 },
 "nbformat": 4,
 "nbformat_minor": 2
}
