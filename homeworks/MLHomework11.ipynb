{
 "cells": [
  {
   "cell_type": "code",
   "execution_count": 103,
   "metadata": {},
   "outputs": [
    {
     "name": "stdout",
     "output_type": "stream",
     "text": [
      "      Sex Profession\n",
      "0    male    teacher\n",
      "1    male   engineer\n",
      "2  female     others\n",
      "3  female   engineer \n",
      "--------------------------------------------\n",
      "   Profession_engineer  Profession_others  Profession_teacher\n",
      "0                    0                  0                   1\n",
      "1                    1                  0                   0\n",
      "2                    0                  1                   0\n",
      "3                    1                  0                   0 \n",
      "---------------------------------------------\n",
      "      Sex Profession  Profession_engineer  Profession_others  \\\n",
      "0    male    teacher                    0                  0   \n",
      "1    male   engineer                    1                  0   \n",
      "2  female     others                    0                  1   \n",
      "3  female   engineer                    1                  0   \n",
      "\n",
      "   Profession_teacher  \n",
      "0                   1  \n",
      "1                   0  \n",
      "2                   0  \n",
      "3                   0  \n"
     ]
    }
   ],
   "source": [
    "import pandas as pd\n",
    "q_df = pd.DataFrame([['male', 'teacher'], \n",
    "              ['male', 'engineer'],\n",
    "              ['female', None],\n",
    "              ['female', 'engineer']],columns=['Sex','Profession'])\n",
    "#缺失值填入字串'others'\n",
    "q_df['Profession'] = q_df['Profession'].fillna('others')\n",
    "print(q_df, '\\n--------------------------------------------')\n",
    "#更進一步將字串做編碼。 此時用什麼方式做編碼比較適合?為什麼?\n",
    "pf = pd.get_dummies(q_df[['Profession']])\n",
    "print(pf, '\\n---------------------------------------------')\n",
    "df = pd.concat([q_df, pf], axis=1)\n",
    "print(df)\n",
    "\n"
   ]
  }
 ],
 "metadata": {
  "kernelspec": {
   "display_name": "Python 3",
   "language": "python",
   "name": "python3"
  },
  "language_info": {
   "codemirror_mode": {
    "name": "ipython",
    "version": 3
   },
   "file_extension": ".py",
   "mimetype": "text/x-python",
   "name": "python",
   "nbconvert_exporter": "python",
   "pygments_lexer": "ipython3",
   "version": "3.7.4"
  }
 },
 "nbformat": 4,
 "nbformat_minor": 2
}
