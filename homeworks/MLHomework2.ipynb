{
 "cells": [
  {
   "cell_type": "code",
   "execution_count": 28,
   "metadata": {},
   "outputs": [
    {
     "name": "stdout",
     "output_type": "stream",
     "text": [
      "\n",
      "Reshape array1 to 5*6\n",
      "[[ 0  1  2  3  4  5]\n",
      " [ 6  7  8  9 10 11]\n",
      " [12 13 14 15 16 17]\n",
      " [18 19 20 21 22 23]\n",
      " [24 25 26 27 28 29]]\n",
      "\n",
      "\n",
      "Arg of number in array1 which mod 6 equals to 1 :\n",
      "0 1\n",
      "1 1\n",
      "2 1\n",
      "3 1\n",
      "4 1\n"
     ]
    }
   ],
   "source": [
    "import numpy as np\n",
    "#1.將下列清單(list1)，轉成維度為(5X6)的array，順序按列填充。(hint:order=\"F\")\n",
    "array1 = np.array(range(30))\n",
    "# print(array1)\n",
    "print(\"\\nReshape array1 to 5*6\")\n",
    "arr1 = array1.reshape(5, 6)\n",
    "print(arr1)\n",
    "print()\n",
    "#2.呈上題的array，找出被6除餘1的數的索引\n",
    "index = np.array(np.where(arr1%6 == 1))\n",
    "# print(index)\n",
    "print(\"\\nArg of number in array1 which mod 6 equals to 1 :\") \n",
    "arr = np.array(index.flat)\n",
    "for n in range(int(index.size/2)):\n",
    "    m = int(n + index.size/2) \n",
    "    st = str(arr[n]) + \" \" + str(arr[m])\n",
    "    print(st)\n",
    "    \n",
    "    \n",
    "\n",
    "\n",
    "\n"
   ]
  },
  {
   "cell_type": "code",
   "execution_count": null,
   "metadata": {},
   "outputs": [],
   "source": []
  }
 ],
 "metadata": {
  "kernelspec": {
   "display_name": "Python 3",
   "language": "python",
   "name": "python3"
  },
  "language_info": {
   "codemirror_mode": {
    "name": "ipython",
    "version": 3
   },
   "file_extension": ".py",
   "mimetype": "text/x-python",
   "name": "python",
   "nbconvert_exporter": "python",
   "pygments_lexer": "ipython3",
   "version": "3.7.4"
  }
 },
 "nbformat": 4,
 "nbformat_minor": 2
}
