{
 "cells": [
  {
   "cell_type": "code",
   "execution_count": 42,
   "metadata": {},
   "outputs": [
    {
     "name": "stdout",
     "output_type": "stream",
     "text": [
      "56.333333333333336 \n",
      "\n",
      "False \n",
      "\n",
      "75.03544802620011 \n",
      "\n",
      "math_score       74.194221\n",
      "english_score    78.350301\n",
      "chinese_score    78.739928\n",
      "means            77.094817\n",
      "dtype: float64\n"
     ]
    }
   ],
   "source": [
    "import pandas as pd\n",
    "score_df = pd.DataFrame([[1,56,66,70], \n",
    "              [2,90,45,34],\n",
    "              [3,45,32,55],\n",
    "              [4,70,77,89],\n",
    "              [5,56,80,70],\n",
    "              [6,60,54,55],\n",
    "              [7,45,70,79],\n",
    "              [8,34,77,76],\n",
    "              [9,25,87,60],\n",
    "              [10,88,40,43]],columns=['student_id','math_score','english_score','chinese_score'])\n",
    "score_df = score_df.set_index('student_id')\n",
    "\n",
    "#1. 6號學生(student_id=6)3科平均分數為何?\n",
    "m6 = score_df.loc[6].mean()\n",
    "print(m6, '\\n')\n",
    "#2. 6號學生3科平均分數是否有贏過班上一半的同學\n",
    "score_df['means'] = (score_df['math_score'] + score_df['english_score'] + score_df['chinese_score'])/3 \n",
    "print(m6 > score_df['means'].median(), '\\n')\n",
    "#3. 由於班上同學成績不好，所以學校統一加分，加分方式為開根號乘以十，請問6號同學3科成績分別是?\n",
    "score_df = score_df.apply(lambda x : x**0.5*10)\n",
    "score_df['means'] = (score_df['math_score'] + score_df['english_score'] + score_df['chinese_score'])/3 \n",
    "m6 = score_df['means'].loc[6].mean()\n",
    "print(m6, '\\n')\n",
    "#4. 承上題，加分後各科班平均變多少\n",
    "print(score_df.mean(axis = 0))\n"
   ]
  }
 ],
 "metadata": {
  "kernelspec": {
   "display_name": "Python 3",
   "language": "python",
   "name": "python3"
  },
  "language_info": {
   "codemirror_mode": {
    "name": "ipython",
    "version": 3
   },
   "file_extension": ".py",
   "mimetype": "text/x-python",
   "name": "python",
   "nbconvert_exporter": "python",
   "pygments_lexer": "ipython3",
   "version": "3.7.4"
  }
 },
 "nbformat": 4,
 "nbformat_minor": 2
}
